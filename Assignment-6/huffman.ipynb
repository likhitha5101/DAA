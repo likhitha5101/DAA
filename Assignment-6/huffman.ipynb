{
 "cells": [
  {
   "cell_type": "markdown",
   "metadata": {},
   "source": [
    "## MINHEAP IMPLEMENTATION"
   ]
  },
  {
   "cell_type": "markdown",
   "metadata": {},
   "source": [
    "##### Implement the minheap data structure using a linear array like structure. Your implementation should provide standard heap operations such as: buildHeap, insert, deleteMin,"
   ]
  },
  {
   "cell_type": "code",
   "execution_count": 138,
   "metadata": {},
   "outputs": [],
   "source": [
    "#heap implementation for a general list structure\n",
    "\n",
    "def insert(h,x):\n",
    "    h1=h+[0]\n",
    "    size=len(h)+1\n",
    "    i=size-1\n",
    "    while(h1[i//2]>x and i>0):\n",
    "        h1[i]=h1[i//2]\n",
    "        i=i//2\n",
    "    h1[i]=x\n",
    "    return h1"
   ]
  },
  {
   "cell_type": "code",
   "execution_count": 139,
   "metadata": {},
   "outputs": [],
   "source": [
    "def buildHeap(lst):\n",
    "    h=[-999]\n",
    "    for x in lst:\n",
    "        h=insert(h,x)\n",
    "    return h"
   ]
  },
  {
   "cell_type": "code",
   "execution_count": 140,
   "metadata": {},
   "outputs": [],
   "source": [
    "def deleteMin(h):\n",
    "    if(len(h)==1):\n",
    "        print(\"Heap is empty...\")\n",
    "        return\n",
    "    size=len(h)-1\n",
    "    min=h[1]\n",
    "    last=h[size]\n",
    "    i=1\n",
    "    while(i*2<=size):\n",
    "\n",
    "        child=i*2\n",
    "        if(child!=size and h[child+1]<h[child]):\n",
    "            child=child+1\n",
    "        if(last > h[child]):\n",
    "            h[i]=h[child]\n",
    "        else:\n",
    "            break;\n",
    "\n",
    "        i=child\n",
    "\n",
    "    h[i]=last\n",
    "    h=h[:-1]\n",
    "    return h,min"
   ]
  },
  {
   "cell_type": "code",
   "execution_count": 141,
   "metadata": {},
   "outputs": [
    {
     "name": "stdout",
     "output_type": "stream",
     "text": [
      "Array:  [10, 5, 20, 3, 7, 1] \n",
      "After buildheap(): [1, 5, 3, 10, 7, 20]\n",
      "After inserting 2 :  [1, 5, 2, 10, 7, 20, 3]\n",
      "After deleting min : [2, 5, 3, 10, 7, 20] \n",
      "Min element:  1\n"
     ]
    }
   ],
   "source": [
    "a=[10,5,20,3,7,1]\n",
    "h=buildHeap(a)\n",
    "print(\"Array: \",a,\"\\nAfter buildheap():\",h[1:])\n",
    "h=insert(h,2)\n",
    "print(\"After inserting 2 : \",h[1:])\n",
    "h,m=deleteMin(h)\n",
    "print(\"After deleting min :\" ,h[1:],\"\\nMin element: \",m)\n"
   ]
  },
  {
   "cell_type": "code",
   "execution_count": 142,
   "metadata": {},
   "outputs": [
    {
     "name": "stdout",
     "output_type": "stream",
     "text": [
      "[0.09, 0.11, 0.16, 0.24, 0.4]\n"
     ]
    }
   ],
   "source": [
    "p=[0.24,0.16,0.11,0.09,0.40]\n",
    "h=buildHeap(p)[1:]\n",
    "print(h)"
   ]
  },
  {
   "cell_type": "markdown",
   "metadata": {},
   "source": [
    "## Huffman implementation"
   ]
  },
  {
   "cell_type": "markdown",
   "metadata": {},
   "source": [
    "##### Implement Huffman coding using agreedy strategy with time complexity not exceeding O(nlogn). Use your minheap implementation to work with trees maintained in a “forest” (realized using a array like “nodespace”)."
   ]
  },
  {
   "cell_type": "code",
   "execution_count": 143,
   "metadata": {},
   "outputs": [],
   "source": [
    "#heap implementation for a class structure\n",
    "\n",
    "def insert_c(h,x):\n",
    "    h1=h+[node(0,'','','')]\n",
    "    size=len(h)+1\n",
    "    i=size-1\n",
    "    while(h1[i//2].prob>x.prob and i>0):\n",
    "        h1[i]=h1[i//2]\n",
    "        i=i//2\n",
    "    h1[i]=x\n",
    "    return h1"
   ]
  },
  {
   "cell_type": "code",
   "execution_count": 144,
   "metadata": {},
   "outputs": [],
   "source": [
    "def buildHeap_c(lst):\n",
    "    h=[node(-999,'','','')]\n",
    "    for x in lst:\n",
    "        h=insert_c(h,x)\n",
    "    return h"
   ]
  },
  {
   "cell_type": "code",
   "execution_count": 145,
   "metadata": {},
   "outputs": [],
   "source": [
    "def deleteMin_c(h):\n",
    "    if(len(h)==1):\n",
    "        print(\"Heap is empty...\")\n",
    "        return\n",
    "    size=len(h)-1\n",
    "    min=h[1]\n",
    "    last=h[size]\n",
    "    i=1\n",
    "    while(i*2<=size):\n",
    "\n",
    "        child=i*2\n",
    "        if(child!=size and h[child+1].prob<h[child].prob):\n",
    "            child=child+1\n",
    "        if(last.prob > h[child].prob):\n",
    "            h[i]=h[child]\n",
    "        else:\n",
    "            break;\n",
    "\n",
    "        i=child\n",
    "\n",
    "    h[i]=last\n",
    "    h=h[:-1]\n",
    "    return h,min"
   ]
  },
  {
   "cell_type": "code",
   "execution_count": 146,
   "metadata": {},
   "outputs": [],
   "source": [
    "class node:\n",
    "    def __init__(self,prob,sym,left,right):\n",
    "        self.prob=prob\n",
    "        self.sym=sym\n",
    "        self.left=left\n",
    "        self.right=right\n",
    "        self.bs=\"\""
   ]
  },
  {
   "cell_type": "code",
   "execution_count": 147,
   "metadata": {},
   "outputs": [],
   "source": [
    "def tree_implement(lst,sym):\n",
    "    tree_list=[]\n",
    "    \n",
    "    for i in range(len(lst)):\n",
    "        tree_list+=[node(lst[i],sym[i],'none','none')]\n",
    "    \n",
    "    return tree_list"
   ]
  },
  {
   "cell_type": "code",
   "execution_count": 148,
   "metadata": {},
   "outputs": [],
   "source": [
    "p=[0.24,0.16,0.11,0.09,0.40]\n",
    "sym=['a','b','c','d','e']\n",
    "tree_list=tree_implement(p,sym)\n",
    "\n",
    "heap=buildHeap_c(tree_list)\n",
    "\n",
    "while(len(heap)!=2):\n",
    "    heap,left=deleteMin_c(heap)\n",
    "    heap,right=deleteMin_c(heap)\n",
    "\n",
    "    prob=left.prob+right.prob\n",
    "    left.bs='0'+left.bs\n",
    "    right.bs='1'+right.bs\n",
    "        \n",
    "    res=node(prob,'',left,right)\n",
    "    heap=insert_c(heap,res)"
   ]
  },
  {
   "cell_type": "markdown",
   "metadata": {},
   "source": [
    "##### Write a function to read out the code for a symbol from your final tree."
   ]
  },
  {
   "cell_type": "code",
   "execution_count": 151,
   "metadata": {},
   "outputs": [],
   "source": [
    "def traverse(heap,bs):\n",
    "    if(heap!='none'):\n",
    "        traverse(heap.left,'0'+bs)\n",
    "        if(heap.left=='none'and heap.right=='none'):\n",
    "            heap.bs=bs[::-1]\n",
    "        traverse(heap.right,'1'+bs)"
   ]
  },
  {
   "cell_type": "code",
   "execution_count": 156,
   "metadata": {},
   "outputs": [
    {
     "name": "stdout",
     "output_type": "stream",
     "text": [
      "Symbol\tProbability\tBinary code\n",
      "\n",
      "a \t 0.24 \t\t 10\n",
      "b \t 0.16 \t\t 110\n",
      "c \t 0.11 \t\t 1111\n",
      "d \t 0.09 \t\t 1110\n",
      "e \t 0.4 \t\t 0\n",
      "\n",
      "Average Symbol length: 2.16\n"
     ]
    }
   ],
   "source": [
    "traverse(heap[1],'')\n",
    "\n",
    "avg=0\n",
    "print(\"Symbol\\tProbability\\tBinary code\\n\")\n",
    "for i in tree_list:\n",
    "    print(i.sym,\"\\t\",i.prob,\"\\t\\t\",i.bs)\n",
    "    avg+=i.prob*len(i.bs)\n",
    "print(\"\\nAverage Symbol length: %.2f\"%avg)"
   ]
  },
  {
   "cell_type": "code",
   "execution_count": null,
   "metadata": {},
   "outputs": [],
   "source": []
  }
 ],
 "metadata": {
  "kernelspec": {
   "display_name": "Python 3",
   "language": "python",
   "name": "python3"
  },
  "language_info": {
   "codemirror_mode": {
    "name": "ipython",
    "version": 3
   },
   "file_extension": ".py",
   "mimetype": "text/x-python",
   "name": "python",
   "nbconvert_exporter": "python",
   "pygments_lexer": "ipython3",
   "version": "3.7.3"
  }
 },
 "nbformat": 4,
 "nbformat_minor": 2
}
