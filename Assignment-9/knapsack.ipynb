{
  "nbformat": 4,
  "nbformat_minor": 0,
  "metadata": {
    "colab": {
      "name": "Untitled0.ipynb",
      "provenance": []
    },
    "kernelspec": {
      "name": "python3",
      "display_name": "Python 3"
    }
  },
  "cells": [
    {
      "cell_type": "markdown",
      "metadata": {
        "id": "ImYpbJ18TZvc",
        "colab_type": "text"
      },
      "source": [
        "## Design and Analysis of Algorithms — Lab\n",
        "### Session 9: Greedy Algorithms\n",
        "Knapsack Problem"
      ]
    },
    {
      "cell_type": "code",
      "metadata": {
        "id": "nG9kmuMrSw88",
        "colab_type": "code",
        "colab": {
          "base_uri": "https://localhost:8080/",
          "height": 156
        },
        "outputId": "8d70c409-06f6-4d8e-814f-aec837716e6a"
      },
      "source": [
        "import numpy as np\n",
        "\n",
        "n = int(input())\n",
        "\n",
        "Weights = [-1]\n",
        "Values = [-1]\n",
        "\n",
        "for i in range(n):\n",
        "    ip = input().split(' ')\n",
        "    Weights.append(int(ip[0]))\n",
        "    Values.append(int(ip[1]))\n",
        "\n",
        "W = int(input())\n",
        "\n",
        "l = [[ -1 for i in range(W+1)] for j in range(n+1)]\n",
        "chosen = np.array([False for i in range(n+1)])\n",
        "array = np.array(l)\n",
        "\n",
        "for i in range(n+1):\n",
        "    for j in range(W+1):\n",
        "        if i == 0 or j == 0:\n",
        "            array[i][j] = 0\n",
        "\n",
        "def knapsack(i,j):\n",
        "    global array\n",
        "    global Weights\n",
        "    global Values\n",
        "    global chosen\n",
        "\n",
        "    value = 0\n",
        "    if array[i][j] < 0:\n",
        "        if j < Weights[i]:\n",
        "            array[i][j] = knapsack(i-1,j)\n",
        "        else:\n",
        "            array[i][j] = knapsack(i-1,j)\n",
        "            chosen[i] = False\n",
        "            if Values[i] + knapsack(i-1,j-Weights[i]) > array[i][j]:\n",
        "                array[i][j] = Values[i] + knapsack(i-1,j-Weights[i])\n",
        "                chosen[i] = True\n",
        "    return array[i][j]\n",
        "\n",
        "print('Max Value: ',knapsack(n,W))\n",
        "print(chosen[1:])"
      ],
      "execution_count": 1,
      "outputs": [
        {
          "output_type": "stream",
          "text": [
            "4\n",
            "2 12\n",
            "1 10\n",
            "3 20\n",
            "2 15\n",
            "5\n",
            "Max Value:  37\n",
            "[ True  True False  True]\n"
          ],
          "name": "stdout"
        }
      ]
    }
  ]
}