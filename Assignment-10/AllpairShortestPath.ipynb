{
 "cells": [
  {
   "cell_type": "markdown",
   "metadata": {},
   "source": [
    "## CS1403 — Design and Analysis of Algorithms\n",
    "Session — 10"
   ]
  },
  {
   "cell_type": "markdown",
   "metadata": {},
   "source": [
    "Problem 1: Given a directed graph G = (V, E), find the reachability between any two pair of vertices."
   ]
  },
  {
   "cell_type": "code",
   "execution_count": 2,
   "metadata": {},
   "outputs": [
    {
     "name": "stdout",
     "output_type": "stream",
     "text": [
      "4\n",
      "4\n",
      "1 2 4\n",
      "2 3 2\n",
      "3 1 5\n",
      "3 4 9\n",
      "[[ True  True  True  True]\n",
      " [ True  True  True  True]\n",
      " [ True  True  True  True]\n",
      " [False False False False]]\n"
     ]
    }
   ],
   "source": [
    "import numpy as np\n",
    "\n",
    "v = int(input())\n",
    "e = int(input())\n",
    "\n",
    "adjacency = np.array([[False for j in range(v)] for i in range(v)])\n",
    "\n",
    "for edge in range(e):\n",
    "    ip = tuple(map(int,input().split(' ')))\n",
    "    adjacency[ip[0] - 1][ip[1] - 1] = True\n",
    "\n",
    "for k in range(v):\n",
    "    for i in range(v):\n",
    "        for j in range(v):\n",
    "            adjacency[i][j] = (adjacency[i][j]) or (adjacency[i][k] and adjacency[k][j])\n",
    "\n",
    "print(adjacency)"
   ]
  },
  {
   "cell_type": "markdown",
   "metadata": {},
   "source": [
    "Problem 2: Given a weighted directed graph G = (V, E), find shortest weighted paths between every pair of nodes."
   ]
  },
  {
   "cell_type": "code",
   "execution_count": 3,
   "metadata": {},
   "outputs": [
    {
     "name": "stdout",
     "output_type": "stream",
     "text": [
      "4\n",
      "4\n",
      "1 2 4\n",
      "2 3 2\n",
      "3 1 5\n",
      "3 4 9\n",
      "The Distance Matrix Is:\n",
      "\n",
      "[[11.  4.  6. 15.]\n",
      " [ 7. 11.  2. 11.]\n",
      " [ 5.  9. 11.  9.]\n",
      " [inf inf inf inf]]\n",
      "\n",
      "\n",
      "The Previous Matrix Is: \n",
      "\n",
      "[[2 0 1 2]\n",
      " [2 2 1 2]\n",
      " [2 0 1 2]\n",
      " [None None None None]]\n",
      "\n",
      "The paths are:\n",
      "1\n",
      "1 --> 2\n",
      "1 --> 2 --> 3\n",
      "1 --> 2 --> 3 --> 4\n",
      "-------------------------------\n",
      "2 --> 3 --> 1\n",
      "2\n",
      "2 --> 3\n",
      "2 --> 3 --> 4\n",
      "-------------------------------\n",
      "3 --> 1\n",
      "3 --> 1 --> 2\n",
      "3\n",
      "3 --> 4\n",
      "-------------------------------\n",
      "No path from 4 to 1\n",
      "No path from 4 to 2\n",
      "No path from 4 to 3\n",
      "4\n",
      "-------------------------------\n"
     ]
    }
   ],
   "source": [
    "import math\n",
    "import numpy as np\n",
    "\n",
    "v = int(input())\n",
    "e = int(input())\n",
    "\n",
    "distance = np.array([[math.inf for j in range(v)] for i in range(v)])\n",
    "previous = np.array([[None for j in range(v)] for i in range(v)])\n",
    "\n",
    "for edge in range(e):\n",
    "    ip = tuple(map(int,input().split(' ')))\n",
    "    distance[ip[0] - 1][ip[1] - 1] = ip[2]\n",
    "    previous[ip[0] - 1][ip[1] - 1] = ip[0] - 1\n",
    "\n",
    "for k in range(v):\n",
    "    for i in range(v):\n",
    "        for j in range(v):\n",
    "            if distance[i][j] > (distance[i][k] + distance[k][j]):\n",
    "                distance[i][j] = distance[i][k] + distance[k][j]\n",
    "                previous[i][j] = k\n",
    "\n",
    "print('The Distance Matrix Is:\\n')\n",
    "print(distance)\n",
    "\n",
    "print('\\n\\nThe Previous Matrix Is: \\n')\n",
    "print(previous)\n",
    "\n",
    "\n",
    "def path_display(source,dest,distance=0):\n",
    "    global previous\n",
    "\n",
    "    if dest == source:\n",
    "        return str(source+1)\n",
    "\n",
    "    if previous[source][dest] is None:\n",
    "        return 'No path from %d to %d' % (source + 1,dest + 1)\n",
    "    \n",
    "    return path_display(source,previous[source][dest]) + ' --> ' + str(dest + 1)\n",
    "\n",
    "print('\\nThe paths are:')\n",
    "\n",
    "for i in range(v):\n",
    "    for j in range(v):\n",
    "        print(path_display(i,j))\n",
    "    print('-------------------------------')"
   ]
  },
  {
   "cell_type": "code",
   "execution_count": null,
   "metadata": {},
   "outputs": [],
   "source": []
  }
 ],
 "metadata": {
  "kernelspec": {
   "display_name": "Python 3",
   "language": "python",
   "name": "python3"
  },
  "language_info": {
   "codemirror_mode": {
    "name": "ipython",
    "version": 3
   },
   "file_extension": ".py",
   "mimetype": "text/x-python",
   "name": "python",
   "nbconvert_exporter": "python",
   "pygments_lexer": "ipython3",
   "version": "3.7.3"
  }
 },
 "nbformat": 4,
 "nbformat_minor": 2
}
